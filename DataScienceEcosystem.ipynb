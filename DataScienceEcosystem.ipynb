{
 "cells": [
  {
   "cell_type": "markdown",
   "id": "2fd20109-95d9-4eb6-8701-fb1d64cc0c1f",
   "metadata": {},
   "source": [
    "<H1>Data Science Tools and Ecosystem</H1>"
   ]
  },
  {
   "cell_type": "markdown",
   "id": "87ac4983-716e-48aa-92d5-fe7e3f7ba10c",
   "metadata": {},
   "source": [
    "In this notebook, Data Science Tools and Ecosystem are summarized."
   ]
  },
  {
   "cell_type": "markdown",
   "id": "799949ab-9d53-4eb2-9c1a-3ff1a4f95a4a",
   "metadata": {},
   "source": [
    "<strong>Objectives :</strong><br>\n",
    "* List some of the Popular languages used by Data Scientists.\n",
    "* List the commonly used libraries used by Data Scientists.\n",
    "* List some of the used tools in Data Science.\n",
    "* Create 2 codes : one for doing basic calculations and one to convert minutes to hours."
   ]
  },
  {
   "cell_type": "markdown",
   "id": "9bfc4052-f8d5-421f-929f-a79420a62546",
   "metadata": {},
   "source": [
    "Some of the popular languages that Data Scientists use are:<br><ol>\n",
    "  <li>Python</li>\n",
    "  <li>R</li>\n",
    "  <li>SQL</li>\n",
    "  <li>Java</li>\n",
    "  <li>Scala</li>\n",
    "  <li>Julia</li>\n",
    "  <li>C/C++</li>\n",
    "</ol> "
   ]
  },
  {
   "cell_type": "markdown",
   "id": "60a0c358-97ab-4491-b432-351124f4700f",
   "metadata": {},
   "source": [
    "Some of the commonly used libraries used by Data Scientists include:<br><ol>\n",
    "  <li>matplotlib</li>\n",
    "  <li>Panda</li>\n",
    "  <li>PyTorch</li>\n",
    "  <li>Tenserflow</li>\n",
    "  <li>Seaborn</li>\n",
    "  <li>Numpy</li>\n",
    "  <li>Keras</li>\n",
    "  <li>Ggplot2</li>\n",
    "</ol> "
   ]
  },
  {
   "cell_type": "markdown",
   "id": "c4db5edd-64c0-4f06-b726-de1b9f54d6b4",
   "metadata": {},
   "source": [
    "| Data Science Tools |\n",
    "| ------------------ |\n",
    "| Jupyter Notebook   |\n",
    "| RStudio            |\n",
    "| KNIME              |"
   ]
  },
  {
   "cell_type": "markdown",
   "id": "bfc91daf-95da-4152-a643-af603316d344",
   "metadata": {},
   "source": [
    "<h3>Below are a few examples of evaluating arithmetic expressions in Python</h3> <br>\n",
    "<code>expression = \"2 + 3 * 4\"\n",
    "result = eval(expression)\n",
    "print(result)  # Output: 14</code>\n"
   ]
  },
  {
   "cell_type": "code",
   "execution_count": 3,
   "id": "2352850f-cea2-4aed-bc02-dc0e68776479",
   "metadata": {},
   "outputs": [
    {
     "name": "stdin",
     "output_type": "stream",
     "text": [
      "Enter the value of a:  3\n",
      "Enter the value of b:  4\n",
      "Enter the value of c:  5\n"
     ]
    },
    {
     "name": "stdout",
     "output_type": "stream",
     "text": [
      "The result of (a * b) + c is: 17.0\n"
     ]
    }
   ],
   "source": [
    "# ask the user for input\n",
    "a = float(input(\"Enter the value of a: \"))\n",
    "b = float(input(\"Enter the value of b: \"))\n",
    "c = float(input(\"Enter the value of c: \"))\n",
    "\n",
    "# Calculate the result\n",
    "result = (a * b) + c\n",
    "\n",
    "# Print the result to the console\n",
    "print(\"The result of (a * b) + c is:\", result)\n"
   ]
  },
  {
   "cell_type": "code",
   "execution_count": 4,
   "id": "cc046816-6f11-45da-b119-e1d17d438e7a",
   "metadata": {},
   "outputs": [
    {
     "name": "stdin",
     "output_type": "stream",
     "text": [
      "Enter how much minutes you want to convert into hours:  200\n"
     ]
    },
    {
     "name": "stdout",
     "output_type": "stream",
     "text": [
      "The converted value is: 3.3333333333333335\n"
     ]
    }
   ],
   "source": [
    "# ask the user to enter the minutes to be converted\n",
    "min = float(input(\"Enter how much minutes you want to convert into hours: \"))\n",
    "\n",
    "# Convert to hours\n",
    "hours = min/60\n",
    "\n",
    "# Print the results\n",
    "print(\"The converted value is:\", hours)"
   ]
  },
  {
   "cell_type": "markdown",
   "id": "64d8ac9d-e878-47df-a85b-6e1145ffb7e3",
   "metadata": {},
   "source": [
    "<h2>Author :</h2><br>\n",
    "Bejaoui Becem"
   ]
  },
  {
   "cell_type": "code",
   "execution_count": null,
   "id": "c695ad4a-68df-486f-8508-5dca5706e85f",
   "metadata": {},
   "outputs": [],
   "source": []
  }
 ],
 "metadata": {
  "kernelspec": {
   "display_name": "Python",
   "language": "python",
   "name": "conda-env-python-py"
  },
  "language_info": {
   "codemirror_mode": {
    "name": "ipython",
    "version": 3
   },
   "file_extension": ".py",
   "mimetype": "text/x-python",
   "name": "python",
   "nbconvert_exporter": "python",
   "pygments_lexer": "ipython3",
   "version": "3.7.12"
  }
 },
 "nbformat": 4,
 "nbformat_minor": 5
}
